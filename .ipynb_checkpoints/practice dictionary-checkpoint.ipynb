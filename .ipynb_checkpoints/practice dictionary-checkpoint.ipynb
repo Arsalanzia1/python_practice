{
 "cells": [
  {
   "cell_type": "code",
   "execution_count": 1,
   "metadata": {},
   "outputs": [
    {
     "data": {
      "text/plain": [
       "['Argo', 'Argon', 'Altoona', 'Amazon']"
      ]
     },
     "execution_count": 1,
     "metadata": {},
     "output_type": "execute_result"
    }
   ],
   "source": [
    "a_list = [\"Argo\", \"Argon\", \"Altoona\"]\n",
    "sites = {\n",
    "  \"search\": \"Google\",\n",
    "  \"social\": \"Facebook\",\n",
    "  \"travel\": \"Travelocity\",\n",
    "  \"retail\": \"Amazon\",\n",
    "}\n",
    "for a in sites.values():\n",
    "  if a == \"Amazon\":\n",
    "    a_list.append(a)\n",
    "    break\n",
    "a_list"
   ]
  },
  {
   "cell_type": "code",
   "execution_count": 3,
   "metadata": {},
   "outputs": [
    {
     "name": "stdout",
     "output_type": "stream",
     "text": [
      "Uh-oh\n"
     ]
    }
   ],
   "source": [
    "details = {\n",
    "  \"nickname\": \"Mick\",\n",
    "  \"married\": \"yes\",\n",
    "  \"careers\": [\"firefighter\", \"mathematician\", \"rock star\"],\n",
    "}\n",
    "if details[\"married\"] == \"yes\":\n",
    "    if \"rock star\" in details[\"careers\"]:\n",
    "        print(\"Uh-oh\")"
   ]
  },
  {
   "cell_type": "code",
   "execution_count": null,
   "metadata": {},
   "outputs": [],
   "source": []
  }
 ],
 "metadata": {
  "kernelspec": {
   "display_name": "Python 3",
   "language": "python",
   "name": "python3"
  },
  "language_info": {
   "codemirror_mode": {
    "name": "ipython",
    "version": 3
   },
   "file_extension": ".py",
   "mimetype": "text/x-python",
   "name": "python",
   "nbconvert_exporter": "python",
   "pygments_lexer": "ipython3",
   "version": "3.7.4"
  }
 },
 "nbformat": 4,
 "nbformat_minor": 2
}
