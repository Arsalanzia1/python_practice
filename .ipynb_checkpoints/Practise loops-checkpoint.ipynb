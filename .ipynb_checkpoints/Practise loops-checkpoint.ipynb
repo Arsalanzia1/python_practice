{
 "cells": [
  {
   "cell_type": "code",
   "execution_count": 6,
   "metadata": {},
   "outputs": [
    {
     "name": "stdout",
     "output_type": "stream",
     "text": [
      "no it is not hot\n",
      "enjoy your day\n"
     ]
    }
   ],
   "source": [
    "is_hot = False\n",
    "if is_hot:\n",
    "    print(\"I am Hot\")\n",
    "    \n",
    "else:\n",
    "    print(\"no it is not hot\")\n",
    "print(\"enjoy your day\")"
   ]
  },
  {
   "cell_type": "code",
   "execution_count": 8,
   "metadata": {},
   "outputs": [
    {
     "name": "stdout",
     "output_type": "stream",
     "text": [
      "Eligible for loan\n"
     ]
    }
   ],
   "source": [
    "high_income = True\n",
    "high_credit = False\n",
    "\n",
    "if high_income or high_credit:\n",
    "    print(\"Eligible for loan\")\n",
    "    "
   ]
  },
  {
   "cell_type": "code",
   "execution_count": 9,
   "metadata": {},
   "outputs": [
    {
     "name": "stdout",
     "output_type": "stream",
     "text": [
      "['apples', 'banana', 'cherry']\n",
      "['berries', 'banana', 'cherry']\n"
     ]
    }
   ],
   "source": [
    "a=[\"apples\",\"banana\",'cherry']\n",
    "print(a)\n",
    "a[0]='berries'\n",
    "print(a)"
   ]
  },
  {
   "cell_type": "code",
   "execution_count": 13,
   "metadata": {},
   "outputs": [
    {
     "name": "stdout",
     "output_type": "stream",
     "text": [
      "('apples', 'banana', 'cherry')\n"
     ]
    },
    {
     "data": {
      "text/plain": [
       "2158983386920"
      ]
     },
     "execution_count": 13,
     "metadata": {},
     "output_type": "execute_result"
    }
   ],
   "source": [
    "a=(\"apples\",\"banana\",'cherry')\n",
    "print(a)\n",
    "\n",
    "id(a)"
   ]
  },
  {
   "cell_type": "code",
   "execution_count": 11,
   "metadata": {},
   "outputs": [
    {
     "data": {
      "text/plain": [
       "2158983799736"
      ]
     },
     "execution_count": 11,
     "metadata": {},
     "output_type": "execute_result"
    }
   ],
   "source": [
    "a=(\"apples\",\"banana\",'cherry')\n",
    "id(a)"
   ]
  },
  {
   "cell_type": "code",
   "execution_count": 19,
   "metadata": {},
   "outputs": [
    {
     "data": {
      "text/plain": [
       "6.546603899999809"
      ]
     },
     "execution_count": 19,
     "metadata": {},
     "output_type": "execute_result"
    }
   ],
   "source": [
    "import timeit\n",
    "timeit.timeit('L = [2 ** n for n in range(10)]')\n"
   ]
  },
  {
   "cell_type": "code",
   "execution_count": 25,
   "metadata": {},
   "outputs": [
    {
     "name": "stdout",
     "output_type": "stream",
     "text": [
      "1\n",
      "2\n",
      "3\n",
      "4\n",
      "5\n",
      "6\n",
      "7\n",
      "8\n",
      "9\n",
      "10\n",
      "done\n"
     ]
    }
   ],
   "source": [
    "counter = 1\n",
    "while counter <= 10:\n",
    "    print(counter)\n",
    "    counter += 1\n",
    "print(\"done\")\n",
    "    "
   ]
  },
  {
   "cell_type": "code",
   "execution_count": 11,
   "metadata": {},
   "outputs": [
    {
     "name": "stdout",
     "output_type": "stream",
     "text": [
      "Enter your name as\n",
      "2\n",
      "Name must be more than 3 characters \n"
     ]
    }
   ],
   "source": [
    "name = input(\"Enter your name \")\n",
    "print(len(name))\n",
    "characters = len(name)\n",
    "if characters <= 3:\n",
    "    print(\"Name must be more than 3 characters \")\n",
    "    \n",
    "elif characters >= 50:\n",
    "    print(\"Name must be less than 50 characters \")\n",
    "    \n",
    "else:\n",
    "    print(\"Name looks good \")"
   ]
  },
  {
   "cell_type": "code",
   "execution_count": 22,
   "metadata": {},
   "outputs": [
    {
     "name": "stdout",
     "output_type": "stream",
     "text": [
      "Enter your weight: 123\n",
      "(L)bs OR (K)kg: l\n",
      " Your weight is  55 kg\n"
     ]
    }
   ],
   "source": [
    "Weight = input( \"Enter your weight: \")\n",
    "unit = input(\"(L)bs OR (K)kg: \")\n",
    "weight1= int(Weight)/2.20\n",
    "weight2= int(Weight)*0.4535\n",
    "if unit == \"l\" or \"L\" :\n",
    "\n",
    "    print(\" Your weight is \", int(weight1), \"kg\")\n",
    "elif unit == \"k\" or \"K\":\n",
    "     \n",
    "    print(\" Your weight is \", weight2 )"
   ]
  },
  {
   "cell_type": "code",
   "execution_count": 4,
   "metadata": {},
   "outputs": [
    {
     "ename": "IndentationError",
     "evalue": "expected an indented block (<ipython-input-4-17878123cad7>, line 3)",
     "output_type": "error",
     "traceback": [
      "\u001b[1;36m  File \u001b[1;32m\"<ipython-input-4-17878123cad7>\"\u001b[1;36m, line \u001b[1;32m3\u001b[0m\n\u001b[1;33m    if user_input.upper() == \"HELP\":\u001b[0m\n\u001b[1;37m     ^\u001b[0m\n\u001b[1;31mIndentationError\u001b[0m\u001b[1;31m:\u001b[0m expected an indented block\n"
     ]
    }
   ],
   "source": [
    "user_input= input()\n",
    "\n",
    "if user_input.upper() == \"HELP\":\n",
    "    print(\"\"\"Enter \"Start\" for starting the car\n",
    "Enter \"Stop\" for stoping the car\n",
    "Enter \"Quit\" for quitting     \n",
    "    \"\"\")\n",
    "\n",
    "if user_input.upper() == \"START\":\n",
    "    print(\"Car is started ... ready to go!!!\")\n",
    "\n",
    "elif user_input.upper() == \"STOP\":\n",
    "    print(\"Car is stopped !!! \")\n",
    "\n",
    "else:\n",
    "    print(\"Sorry I don't Understand \")"
   ]
  },
  {
   "cell_type": "code",
   "execution_count": 9,
   "metadata": {},
   "outputs": [
    {
     "name": "stdout",
     "output_type": "stream",
     "text": [
      "Total: 60\n"
     ]
    }
   ],
   "source": [
    "prices =[10, 20, 30]\n",
    "total = 0\n",
    "for price in prices:\n",
    "    total += price\n",
    "print(f\"Total: {total}\")\n",
    "    "
   ]
  },
  {
   "cell_type": "code",
   "execution_count": 27,
   "metadata": {},
   "outputs": [
    {
     "name": "stdout",
     "output_type": "stream",
     "text": [
      "x\n",
      "x\n",
      "x\n",
      "x\n",
      "x\n",
      "xxxxx\n"
     ]
    }
   ],
   "source": [
    "numbers = [1,1,1,1,1,5]\n",
    "\n",
    "for x_count in numbers:\n",
    "    count = \"\"\n",
    "    for item in range(x_count):\n",
    "        count += \"x\"\n",
    "    print(count)"
   ]
  },
  {
   "cell_type": "code",
   "execution_count": 28,
   "metadata": {},
   "outputs": [
    {
     "name": "stdout",
     "output_type": "stream",
     "text": [
      "[1, 1, 1, 1, 1, 5]\n"
     ]
    }
   ],
   "source": [
    "numbers = [1,1,1,1,1,5]\n",
    "print(numbers)"
   ]
  },
  {
   "cell_type": "code",
   "execution_count": 40,
   "metadata": {},
   "outputs": [
    {
     "name": "stdout",
     "output_type": "stream",
     "text": [
      "9\n"
     ]
    }
   ],
   "source": [
    "numbers= [1,2,3,4,5,8,9,6,2,4,7]\n",
    "max1 = numbers[0]\n",
    "for large in numbers:\n",
    "    if large > max1:\n",
    "        max1 = large\n",
    "print(max1)\n",
    "    \n",
    "    "
   ]
  },
  {
   "cell_type": "code",
   "execution_count": 17,
   "metadata": {},
   "outputs": [
    {
     "name": "stdout",
     "output_type": "stream",
     "text": [
      "[1, 2, 3, 4, 5, 7, 8, 9]\n"
     ]
    }
   ],
   "source": [
    "numbers = [1, 2, 3, 5, 4 , 4, 4,8,9,5,7,8]\n",
    "numbers.sort()\n",
    "unique = []\n",
    "\n",
    "for number in numbers:\n",
    "    if number not in unique:\n",
    "        unique.append(number)\n",
    "        \n",
    "print(unique)"
   ]
  },
  {
   "cell_type": "code",
   "execution_count": 39,
   "metadata": {},
   "outputs": [
    {
     "name": "stdout",
     "output_type": "stream",
     "text": [
      "Phone: 03119556449\n",
      "Zero Three One One Nine Five Five Six Four Four Nine \n"
     ]
    }
   ],
   "source": [
    "phone = input(\"Phone: \")\n",
    "digits_mapping ={\n",
    "    \"1\": \"One\",\n",
    "    \"2\": \"Two\",\n",
    "    \"3\": \"Three\",\n",
    "    \"4\": \"Four\",\n",
    "    \"5\": \"Five\",\n",
    "    \"6\": \"Six\",\n",
    "    \"7\": \"Seven\",\n",
    "    \"8\": \"Eight\",\n",
    "    \"9\": \"Nine\",\n",
    "    \"0\": \"Zero\"\n",
    "}\n",
    "output =\"\"\n",
    "for ch in phone:\n",
    "    output += digits_mapping.get(ch, \"!\") + \" \"\n",
    "print(output)"
   ]
  },
  {
   "cell_type": "code",
   "execution_count": null,
   "metadata": {},
   "outputs": [],
   "source": []
  }
 ],
 "metadata": {
  "kernelspec": {
   "display_name": "Python 3",
   "language": "python",
   "name": "python3"
  },
  "language_info": {
   "codemirror_mode": {
    "name": "ipython",
    "version": 3
   },
   "file_extension": ".py",
   "mimetype": "text/x-python",
   "name": "python",
   "nbconvert_exporter": "python",
   "pygments_lexer": "ipython3",
   "version": "3.7.4"
  }
 },
 "nbformat": 4,
 "nbformat_minor": 2
}
