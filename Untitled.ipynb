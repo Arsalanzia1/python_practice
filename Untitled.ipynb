{
 "cells": [
  {
   "cell_type": "markdown",
   "metadata": {},
   "source": [
    "# Functions Practice"
   ]
  },
  {
   "cell_type": "raw",
   "metadata": {},
   "source": [
    "Syntax\n",
    "def FunctionName(): # for defining functions\n",
    "    Body\n",
    "    \n",
    "FunctionName()   #for Calling fuctions \n",
    "\n",
    "- Each of the numbers inside the parentheses is known as an argument.\n",
    "- A variable inside the parentheses in a function definition is known as a parameter.\n",
    "- Arguments like this are positional arguments—arguments that are loaded into function parameters in order, like a line of       customers loaded into the cars of a theme park ride.\n"
   ]
  },
  {
   "cell_type": "code",
   "execution_count": null,
   "metadata": {},
   "outputs": [],
   "source": []
  }
 ],
 "metadata": {
  "kernelspec": {
   "display_name": "Python 3",
   "language": "python",
   "name": "python3"
  },
  "language_info": {
   "codemirror_mode": {
    "name": "ipython",
    "version": 3
   },
   "file_extension": ".py",
   "mimetype": "text/x-python",
   "name": "python",
   "nbconvert_exporter": "python",
   "pygments_lexer": "ipython3",
   "version": "3.7.3"
  }
 },
 "nbformat": 4,
 "nbformat_minor": 2
}
